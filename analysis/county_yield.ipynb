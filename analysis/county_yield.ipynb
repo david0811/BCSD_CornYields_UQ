{
 "cells": [
  {
   "cell_type": "markdown",
   "metadata": {},
   "source": [
    "# County level yield analysis: Figure 3"
   ]
  },
  {
   "cell_type": "code",
   "execution_count": 2,
   "metadata": {},
   "outputs": [],
   "source": [
    "import pandas as pd\n",
    "import numpy as np\n",
    "import scipy.stats as ss\n",
    "from statsmodels.distributions.empirical_distribution import ECDF\n",
    "from sklearn.model_selection import GridSearchCV\n",
    "from sklearn.neighbors import KernelDensity\n",
    "import matplotlib.pyplot as plt\n",
    "from matplotlib import gridspec\n",
    "\n",
    "plt.rcParams['font.family'] = 'sans-serif'\n",
    "plt.rcParams['font.sans-serif'] = 'Avenir'\n",
    "plt.rcParams['mathtext.rm'] = 'Avenir'\n",
    "plt.rcParams['mathtext.it'] = 'Avenir:italic'\n",
    "plt.rcParams['mathtext.bf'] = 'Avenir:bold'\n",
    "plt.rcParams['font.size'] = 22\n",
    "plt.rcParams['axes.edgecolor']='#333F4B'\n",
    "plt.rcParams['axes.linewidth']=0.8\n",
    "plt.rcParams['xtick.color']='#333F4B'\n",
    "plt.rcParams['ytick.color']='#333F4B'\n",
    "plt.rcParams['pdf.fonttype'] = 42"
   ]
  },
  {
   "cell_type": "code",
   "execution_count": 3,
   "metadata": {},
   "outputs": [],
   "source": [
    "# Get both ensembles\n",
    "from combine import combine_nex, combine_cmip\n",
    "nex_all = combine_nex()\n",
    "cmip_all = combine_cmip()"
   ]
  },
  {
   "cell_type": "code",
   "execution_count": 5,
   "metadata": {},
   "outputs": [],
   "source": [
    "# Set indexing\n",
    "nex_all.set_index(['GEOID','Year'], inplace=True)\n",
    "cmip_all.set_index(['GEOID','Year'], inplace=True)"
   ]
  },
  {
   "cell_type": "markdown",
   "metadata": {},
   "source": [
    "### Fit bandwidths for each county"
   ]
  },
  {
   "cell_type": "code",
   "execution_count": 25,
   "metadata": {},
   "outputs": [],
   "source": [
    "# Interquartile range\n",
    "def get_iqr(dat):\n",
    "    return np.quantile(dat, 0.75) - np.quantile(dat, 0.25)\n",
    "\n",
    "# Silverman bandwidth estimate\n",
    "def silverman(dat):\n",
    "    return 0.9 * np.min([np.std(dat), get_iqr(dat)/1.34]) * len(dat)**-0.2"
   ]
  },
  {
   "cell_type": "code",
   "execution_count": 44,
   "metadata": {},
   "outputs": [
    {
     "name": "stdout",
     "output_type": "stream",
     "text": [
      "CPU times: user 1h 20min 27s, sys: 25.7 s, total: 1h 20min 53s\n",
      "Wall time: 1h 24min 14s\n"
     ]
    }
   ],
   "source": [
    "%%time\n",
    "#############################\n",
    "#### WARNING: this took 1hr 20mins to run on my local machine. Importing the results (next cell) will be much faster\n",
    "############################\n",
    "NEXres = {}\n",
    "CMIPres = {}\n",
    "for geoid in nex_all.index.unique(level = 'GEOID'):\n",
    "    # Ensembles\n",
    "    NEXens = nex_all.loc[geoid].drop(columns=['GMFD']).to_numpy().flatten()\n",
    "    CMIPens = cmip_all.loc[geoid].drop(columns=['GMFD']).to_numpy().flatten()\n",
    "    # Obs\n",
    "    GMFDobs = nex_all.loc[geoid].filter(['GMFD']).to_numpy()\n",
    "    # Find best bandswidth\n",
    "    nexgrid = GridSearchCV(KernelDensity(), {'bandwidth': np.linspace(0.5*silverman(NEXens), 2*silverman(NEXens), 20)})\n",
    "    cmipgrid = GridSearchCV(KernelDensity(), {'bandwidth': np.linspace(0.5*silverman(CMIPens), 2*silverman(CMIPens), 20)})\n",
    "    nexgrid.fit(NEXens[:, None])\n",
    "    cmipgrid.fit(CMIPens[:, None])\n",
    "    NEXres.update({geoid : nexgrid.best_params_['bandwidth']})\n",
    "    CMIPres.update({geoid : cmipgrid.best_params_['bandwidth']})\n",
    "\n",
    "# Store results\n",
    "NEX_res = pd.DataFrame.from_dict(NEXres, orient = 'index', columns = ['bw'])\n",
    "NEX_res.index.name = 'GEOID'\n",
    "NEX_res.to_csv('./bandwidths/nex_yield_bws.csv')\n",
    "\n",
    "CMIP_res = pd.DataFrame.from_dict(CMIPres, orient = 'index', columns = ['bw'])\n",
    "CMIP_res.index.name = 'GEOID'\n",
    "CMIP_res.to_csv('./bandwidths/cmip_yield_bws.csv')"
   ]
  },
  {
   "cell_type": "code",
   "execution_count": 89,
   "metadata": {},
   "outputs": [],
   "source": [
    "# Import results\n",
    "NEX_res = pd.read_csv('./bandwidths/nex_yield_bws.csv')\n",
    "NEX_res['GEOID'] = NEX_res['GEOID'].astype(str).str.zfill(5)\n",
    "NEX_res.set_index(['GEOID'], inplace=True)\n",
    "CMIP_res = pd.read_csv('./bandwidths/cmip_yield_bws.csv')\n",
    "CMIP_res['GEOID'] = CMIP_res['GEOID'].astype(str).str.zfill(5)\n",
    "CMIP_res.set_index(['GEOID'], inplace=True)"
   ]
  },
  {
   "cell_type": "markdown",
   "metadata": {},
   "source": [
    "### Calculate tail probabilities for each test statistic, for each county"
   ]
  },
  {
   "cell_type": "code",
   "execution_count": null,
   "metadata": {},
   "outputs": [],
   "source": [
    "%%time\n",
    "#############################\n",
    "#### WARNING: this took 7hrs to run on my local machine. Importing the results (next cell) will be much faster\n",
    "############################\n",
    "# Results dict\n",
    "NEXtail = []\n",
    "CMIPtail = []\n",
    "# Loop over each county\n",
    "for geoid in nex_all.index.unique(level='GEOID'):\n",
    "    # Ensembles\n",
    "    NEXens = nex_all.loc[geoid].drop(columns=['GMFD']).to_numpy().flatten()\n",
    "    CMIPens = cmip_all.loc[geoid].drop(columns=['GMFD']).to_numpy().flatten()\n",
    "    # Obs\n",
    "    GMFDobs = nex_all.loc[geoid].filter(['GMFD']).to_numpy()\n",
    "    # KDEs\n",
    "    nex_kde_skl = KernelDensity(bandwidth=NEX_res.loc[geoid]['bw'])\n",
    "    cmip_kde_skl = KernelDensity(bandwidth=CMIP_res.loc[geoid]['bw'])\n",
    "    nex_kde_skl.fit(NEXens[:, None])\n",
    "    cmip_kde_skl.fit(CMIPens[:, None])\n",
    "    # Construct sample\n",
    "    nex_sample = np.array([nex_kde_skl.sample(n_samples=len(GMFDobs)).flatten() for i in range(10000)])\n",
    "    cmip_sample = np.array([cmip_kde_skl.sample(n_samples=len(GMFDobs)).flatten() for i in range(10000)])\n",
    "\n",
    "    # SD\n",
    "    nex_sd_sample = np.array([np.std(dat) for dat in nex_sample])\n",
    "    cmip_sd_sample = np.array([np.std(dat) for dat in cmip_sample])\n",
    "    nex_sd_ecdf = ECDF(nex_sd_sample)\n",
    "    cmip_sd_ecdf = ECDF(cmip_sd_sample)\n",
    "    gmfd_sd = np.std(GMFDobs)\n",
    "\n",
    "    # MAD\n",
    "    nex_mad_sample = np.array([ss.median_absolute_deviation(dat) for dat in nex_sample])\n",
    "    cmip_mad_sample = np.array([ss.median_absolute_deviation(dat) for dat in cmip_sample])\n",
    "    nex_mad_ecdf = ECDF(nex_mad_sample)\n",
    "    cmip_mad_ecdf = ECDF(cmip_mad_sample)\n",
    "    gmfd_mad = ss.median_absolute_deviation(GMFDobs)\n",
    "    \n",
    "    # Min\n",
    "    nex_min_sample = np.array([dat.min() for dat in nex_sample])\n",
    "    cmip_min_sample = np.array([dat.min() for dat in cmip_sample])\n",
    "    nex_min_ecdf = ECDF(nex_min_sample)\n",
    "    cmip_min_ecdf = ECDF(cmip_min_sample)\n",
    "    gmfd_min = GMFDobs.min()\n",
    "    \n",
    "    # Store\n",
    "    NEXtail.append({'GEOID': geoid,\n",
    "                    'gmfd_sd': 1.-nex_sd_ecdf(gmfd_sd),\n",
    "                    'gmfd_mad': 1.-nex_mad_ecdf(gmfd_mad)[0],\n",
    "                    'gmfd_min': 1.-nex_min_ecdf(gmfd_min)\n",
    "                   })\n",
    "    CMIPtail.append({'GEOID': geoid,\n",
    "                     'gmfd_sd': 1.-cmip_sd_ecdf(gmfd_sd),\n",
    "                     'gmfd_mad': 1.-cmip_mad_ecdf(gmfd_mad)[0],\n",
    "                     'gmfd_min': 1.-cmip_min_ecdf(gmfd_min)\n",
    "                    })\n",
    "    \n",
    "# Store results\n",
    "NEX_tail = pd.DataFrame.from_dict(NEXtail)\n",
    "NEX_tail.to_csv('./output/nex_yield_pvals_60-05.csv', index=False)\n",
    "\n",
    "CMIP_tail = pd.DataFrame.from_dict(CMIPtail)\n",
    "CMIP_tail.to_csv('./output/cmip_yield_pvals_60-05.csv', index=False)"
   ]
  },
  {
   "cell_type": "code",
   "execution_count": null,
   "metadata": {},
   "outputs": [],
   "source": []
  }
 ],
 "metadata": {
  "kernelspec": {
   "display_name": "Python 3",
   "language": "python",
   "name": "python3"
  },
  "language_info": {
   "codemirror_mode": {
    "name": "ipython",
    "version": 3
   },
   "file_extension": ".py",
   "mimetype": "text/x-python",
   "name": "python",
   "nbconvert_exporter": "python",
   "pygments_lexer": "ipython3",
   "version": "3.7.6"
  }
 },
 "nbformat": 4,
 "nbformat_minor": 4
}
