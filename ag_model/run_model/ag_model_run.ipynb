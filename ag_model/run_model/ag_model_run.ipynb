{
 "cells": [
  {
   "cell_type": "markdown",
   "metadata": {},
   "source": [
    "# Yield calculation: drive ag model with climate model outputs"
   ]
  },
  {
   "cell_type": "code",
   "execution_count": 1,
   "metadata": {},
   "outputs": [],
   "source": [
    "import numpy as np\n",
    "import pandas as pd"
   ]
  },
  {
   "cell_type": "markdown",
   "metadata": {},
   "source": [
    "### Regression coefficients"
   ]
  },
  {
   "cell_type": "code",
   "execution_count": 2,
   "metadata": {},
   "outputs": [],
   "source": [
    "# Get coefficients\n",
    "coeff = pd.read_csv('../fit_model/ag_model_coeff_final.csv')\n",
    "coeff['GEOID'] = coeff['GEOID'].astype(str).str.zfill(5)"
   ]
  },
  {
   "cell_type": "code",
   "execution_count": 3,
   "metadata": {},
   "outputs": [
    {
     "data": {
      "text/html": [
       "<div>\n",
       "<style scoped>\n",
       "    .dataframe tbody tr th:only-of-type {\n",
       "        vertical-align: middle;\n",
       "    }\n",
       "\n",
       "    .dataframe tbody tr th {\n",
       "        vertical-align: top;\n",
       "    }\n",
       "\n",
       "    .dataframe thead th {\n",
       "        text-align: right;\n",
       "    }\n",
       "</style>\n",
       "<table border=\"1\" class=\"dataframe\">\n",
       "  <thead>\n",
       "    <tr style=\"text-align: right;\">\n",
       "      <th></th>\n",
       "      <th>GEOID</th>\n",
       "      <th>GDDc</th>\n",
       "      <th>KDDc</th>\n",
       "      <th>Pc</th>\n",
       "      <th>P2c</th>\n",
       "      <th>R2</th>\n",
       "      <th>pval</th>\n",
       "    </tr>\n",
       "  </thead>\n",
       "  <tbody>\n",
       "    <tr>\n",
       "      <th>0</th>\n",
       "      <td>01001</td>\n",
       "      <td>0.000650</td>\n",
       "      <td>-0.009133</td>\n",
       "      <td>0.638664</td>\n",
       "      <td>-0.306875</td>\n",
       "      <td>0.452173</td>\n",
       "      <td>7.862108e-05</td>\n",
       "    </tr>\n",
       "    <tr>\n",
       "      <th>1</th>\n",
       "      <td>01003</td>\n",
       "      <td>0.000000</td>\n",
       "      <td>-0.002219</td>\n",
       "      <td>1.515195</td>\n",
       "      <td>-0.644551</td>\n",
       "      <td>0.199122</td>\n",
       "      <td>7.038708e-02</td>\n",
       "    </tr>\n",
       "    <tr>\n",
       "      <th>2</th>\n",
       "      <td>01005</td>\n",
       "      <td>0.000148</td>\n",
       "      <td>-0.004832</td>\n",
       "      <td>0.820174</td>\n",
       "      <td>-0.524230</td>\n",
       "      <td>0.337459</td>\n",
       "      <td>2.971402e-03</td>\n",
       "    </tr>\n",
       "    <tr>\n",
       "      <th>3</th>\n",
       "      <td>01009</td>\n",
       "      <td>0.000977</td>\n",
       "      <td>-0.010829</td>\n",
       "      <td>0.000000</td>\n",
       "      <td>-0.538866</td>\n",
       "      <td>0.631368</td>\n",
       "      <td>7.569497e-08</td>\n",
       "    </tr>\n",
       "    <tr>\n",
       "      <th>4</th>\n",
       "      <td>01011</td>\n",
       "      <td>0.000290</td>\n",
       "      <td>-0.006119</td>\n",
       "      <td>0.000000</td>\n",
       "      <td>-0.099910</td>\n",
       "      <td>0.294675</td>\n",
       "      <td>2.883050e-02</td>\n",
       "    </tr>\n",
       "  </tbody>\n",
       "</table>\n",
       "</div>"
      ],
      "text/plain": [
       "   GEOID      GDDc      KDDc        Pc       P2c        R2          pval\n",
       "0  01001  0.000650 -0.009133  0.638664 -0.306875  0.452173  7.862108e-05\n",
       "1  01003  0.000000 -0.002219  1.515195 -0.644551  0.199122  7.038708e-02\n",
       "2  01005  0.000148 -0.004832  0.820174 -0.524230  0.337459  2.971402e-03\n",
       "3  01009  0.000977 -0.010829  0.000000 -0.538866  0.631368  7.569497e-08\n",
       "4  01011  0.000290 -0.006119  0.000000 -0.099910  0.294675  2.883050e-02"
      ]
     },
     "execution_count": 3,
     "metadata": {},
     "output_type": "execute_result"
    }
   ],
   "source": [
    "coeff.head()"
   ]
  },
  {
   "cell_type": "markdown",
   "metadata": {},
   "source": [
    "## GMFD"
   ]
  },
  {
   "cell_type": "code",
   "execution_count": 4,
   "metadata": {},
   "outputs": [],
   "source": [
    "# Import GMFD data\n",
    "gmfd = pd.read_csv('../../agvars/GMFD/agvar_historical_gmfd.csv')\n",
    "gmfd = gmfd.query('Year >= 2006 and Year <= 2016')\n",
    "gmfd.sort_values(by = ['GEOID', 'Year'], inplace = True)\n",
    "gmfd['GEOID'] = gmfd['GEOID'].astype(str).str.zfill(5)\n",
    "gmfd['prcp2'] = gmfd['prcp']**2\n",
    "gmfd.set_index(['GEOID', 'Year'], inplace = True)"
   ]
  },
  {
   "cell_type": "code",
   "execution_count": 5,
   "metadata": {},
   "outputs": [],
   "source": [
    "# Subtract means\n",
    "for agvar in gmfd.columns:\n",
    "    gmfd[agvar] = gmfd[agvar] - gmfd[agvar].mean(level = 'GEOID')"
   ]
  },
  {
   "cell_type": "code",
   "execution_count": 6,
   "metadata": {},
   "outputs": [
    {
     "data": {
      "text/html": [
       "<div>\n",
       "<style scoped>\n",
       "    .dataframe tbody tr th:only-of-type {\n",
       "        vertical-align: middle;\n",
       "    }\n",
       "\n",
       "    .dataframe tbody tr th {\n",
       "        vertical-align: top;\n",
       "    }\n",
       "\n",
       "    .dataframe thead th {\n",
       "        text-align: right;\n",
       "    }\n",
       "</style>\n",
       "<table border=\"1\" class=\"dataframe\">\n",
       "  <thead>\n",
       "    <tr style=\"text-align: right;\">\n",
       "      <th></th>\n",
       "      <th></th>\n",
       "      <th>gdd</th>\n",
       "      <th>egdd</th>\n",
       "      <th>prcp</th>\n",
       "      <th>prcp2</th>\n",
       "    </tr>\n",
       "    <tr>\n",
       "      <th>GEOID</th>\n",
       "      <th>Year</th>\n",
       "      <th></th>\n",
       "      <th></th>\n",
       "      <th></th>\n",
       "      <th></th>\n",
       "    </tr>\n",
       "  </thead>\n",
       "  <tbody>\n",
       "    <tr>\n",
       "      <th rowspan=\"5\" valign=\"top\">01001</th>\n",
       "      <th>2006</th>\n",
       "      <td>4.726345</td>\n",
       "      <td>26.566847</td>\n",
       "      <td>-0.214764</td>\n",
       "      <td>-0.283854</td>\n",
       "    </tr>\n",
       "    <tr>\n",
       "      <th>2007</th>\n",
       "      <td>8.849976</td>\n",
       "      <td>31.636496</td>\n",
       "      <td>-0.384405</td>\n",
       "      <td>-0.416301</td>\n",
       "    </tr>\n",
       "    <tr>\n",
       "      <th>2008</th>\n",
       "      <td>-91.122431</td>\n",
       "      <td>-20.499031</td>\n",
       "      <td>0.102285</td>\n",
       "      <td>0.117987</td>\n",
       "    </tr>\n",
       "    <tr>\n",
       "      <th>2009</th>\n",
       "      <td>-31.897592</td>\n",
       "      <td>-33.802521</td>\n",
       "      <td>0.224311</td>\n",
       "      <td>0.326226</td>\n",
       "    </tr>\n",
       "    <tr>\n",
       "      <th>2010</th>\n",
       "      <td>6.120089</td>\n",
       "      <td>36.589416</td>\n",
       "      <td>-0.062858</td>\n",
       "      <td>-0.116409</td>\n",
       "    </tr>\n",
       "    <tr>\n",
       "      <th>...</th>\n",
       "      <th>...</th>\n",
       "      <td>...</td>\n",
       "      <td>...</td>\n",
       "      <td>...</td>\n",
       "      <td>...</td>\n",
       "    </tr>\n",
       "    <tr>\n",
       "      <th rowspan=\"5\" valign=\"top\">56045</th>\n",
       "      <th>2012</th>\n",
       "      <td>234.291448</td>\n",
       "      <td>39.736328</td>\n",
       "      <td>-0.108562</td>\n",
       "      <td>-0.057078</td>\n",
       "    </tr>\n",
       "    <tr>\n",
       "      <th>2013</th>\n",
       "      <td>9.251826</td>\n",
       "      <td>-13.109958</td>\n",
       "      <td>-0.038376</td>\n",
       "      <td>-0.024961</td>\n",
       "    </tr>\n",
       "    <tr>\n",
       "      <th>2014</th>\n",
       "      <td>-104.457415</td>\n",
       "      <td>-27.874133</td>\n",
       "      <td>0.017893</td>\n",
       "      <td>0.007903</td>\n",
       "    </tr>\n",
       "    <tr>\n",
       "      <th>2015</th>\n",
       "      <td>-25.506358</td>\n",
       "      <td>-21.060937</td>\n",
       "      <td>0.128836</td>\n",
       "      <td>0.091250</td>\n",
       "    </tr>\n",
       "    <tr>\n",
       "      <th>2016</th>\n",
       "      <td>-8.042474</td>\n",
       "      <td>-6.686181</td>\n",
       "      <td>-0.021301</td>\n",
       "      <td>-0.015658</td>\n",
       "    </tr>\n",
       "  </tbody>\n",
       "</table>\n",
       "<p>34188 rows × 4 columns</p>\n",
       "</div>"
      ],
      "text/plain": [
       "                   gdd       egdd      prcp     prcp2\n",
       "GEOID Year                                           \n",
       "01001 2006    4.726345  26.566847 -0.214764 -0.283854\n",
       "      2007    8.849976  31.636496 -0.384405 -0.416301\n",
       "      2008  -91.122431 -20.499031  0.102285  0.117987\n",
       "      2009  -31.897592 -33.802521  0.224311  0.326226\n",
       "      2010    6.120089  36.589416 -0.062858 -0.116409\n",
       "...                ...        ...       ...       ...\n",
       "56045 2012  234.291448  39.736328 -0.108562 -0.057078\n",
       "      2013    9.251826 -13.109958 -0.038376 -0.024961\n",
       "      2014 -104.457415 -27.874133  0.017893  0.007903\n",
       "      2015  -25.506358 -21.060937  0.128836  0.091250\n",
       "      2016   -8.042474  -6.686181 -0.021301 -0.015658\n",
       "\n",
       "[34188 rows x 4 columns]"
      ]
     },
     "execution_count": 6,
     "metadata": {},
     "output_type": "execute_result"
    }
   ],
   "source": [
    "gmfd"
   ]
  },
  {
   "cell_type": "code",
   "execution_count": 7,
   "metadata": {},
   "outputs": [],
   "source": [
    "# Calculate Yields\n",
    "gmfd = pd.merge(coeff, gmfd.reset_index(), on = ['GEOID'], how = 'inner')\n",
    "gmfd.set_index(['GEOID', 'Year'], inplace = True)\n",
    "gmfd['GMFD'] = gmfd['gdd']*gmfd['GDDc'] + gmfd['egdd']*gmfd['KDDc'] + gmfd['prcp']*gmfd['Pc'] + gmfd['prcp2']*gmfd['P2c']\n",
    "gmfd = gmfd.filter(['GEOID', 'Year', 'GMFD'])"
   ]
  },
  {
   "cell_type": "code",
   "execution_count": 9,
   "metadata": {},
   "outputs": [],
   "source": [
    "# Save\n",
    "gmfd.to_csv('./output/GMFD/res_yield_06-16_gmfd.csv')"
   ]
  },
  {
   "cell_type": "markdown",
   "metadata": {},
   "source": [
    "## NEX"
   ]
  },
  {
   "cell_type": "code",
   "execution_count": 10,
   "metadata": {},
   "outputs": [],
   "source": [
    "nex_hist = [\"agvar_historical_r1i1p1_ACCESS1-0.csv\",\n",
    "\"agvar_historical_r1i1p1_BNU-ESM.csv\",\n",
    "\"agvar_historical_r1i1p1_CCSM4.csv\",\n",
    "\"agvar_historical_r1i1p1_CESM1-BGC.csv\",\n",
    "\"agvar_historical_r1i1p1_CNRM-CM5.csv\",\n",
    "\"agvar_historical_r1i1p1_CSIRO-Mk3-6-0.csv\",\n",
    "\"agvar_historical_r1i1p1_CanESM2.csv\",\n",
    "\"agvar_historical_r1i1p1_GFDL-CM3.csv\",\n",
    "\"agvar_historical_r1i1p1_GFDL-ESM2G.csv\",\n",
    "\"agvar_historical_r1i1p1_GFDL-ESM2M.csv\",\n",
    "\"agvar_historical_r1i1p1_IPSL-CM5A-LR.csv\",\n",
    "\"agvar_historical_r1i1p1_IPSL-CM5A-MR.csv\",\n",
    "\"agvar_historical_r1i1p1_MIROC-ESM-CHEM.csv\",\n",
    "\"agvar_historical_r1i1p1_MIROC-ESM.csv\",\n",
    "\"agvar_historical_r1i1p1_MIROC5.csv\",\n",
    "\"agvar_historical_r1i1p1_MPI-ESM-LR.csv\",\n",
    "\"agvar_historical_r1i1p1_MPI-ESM-MR.csv\",\n",
    "\"agvar_historical_r1i1p1_MRI-CGCM3.csv\",\n",
    "\"agvar_historical_r1i1p1_NorESM1-M.csv\",\n",
    "\"agvar_historical_r1i1p1_bcc-csm1-1.csv\",\n",
    "\"agvar_historical_r1i1p1_inmcm4.csv\"]"
   ]
  },
  {
   "cell_type": "code",
   "execution_count": 18,
   "metadata": {},
   "outputs": [],
   "source": [
    "# Run calculation\n",
    "def run_calc(name, hist=True, oos=False, mid=False, end=False):\n",
    "    # Read in data\n",
    "    data = pd.read_csv(\"../../agvars/NEX-GDDP/\" + name)\n",
    "    data[\"GEOID\"] = data[\"GEOID\"].astype(str).str.zfill(5)\n",
    "    data.set_index(['GEOID', 'Year'], inplace=True)\n",
    "    \n",
    "    # Select time period\n",
    "    if hist:\n",
    "        data = data.query('Year >= 1960 and Year <= 2005')\n",
    "    elif oos:\n",
    "        data = data.query('Year >= 2006 and Year <= 2016')\n",
    "    elif mid:\n",
    "        data = data.query('Year >= 2040 and Year <= 2059')\n",
    "    elif end:\n",
    "        data = data.query('Year >= 2080 and Year <= 2099')\n",
    "    \n",
    "    # Square precip\n",
    "    data['prcp2'] = data['prcp']**2\n",
    "    \n",
    "    # Subtract means\n",
    "    for agvar in data.columns:\n",
    "        data[agvar] = data[agvar] - data[agvar].mean(level = 'GEOID')\n",
    "\n",
    "    # Calculate yields\n",
    "    data = pd.merge(coeff, data.reset_index(), on = 'GEOID', how = 'outer')\n",
    "    data['yield'] = data['gdd']*data['GDDc'] + data['egdd']*data['KDDc'] + data['prcp']*data['Pc'] + data['prcp2']*data['P2c']\n",
    "    data = data.filter(['GEOID', 'Year', 'yield'])\n",
    "    \n",
    "    # Save\n",
    "    timeID = hist*'60-05' + oos*'06-16' + mid*'40-59' + end*'80-99'\n",
    "    data.to_csv(\"./output/NEX-GDDP/res_\" + timeID + '_yield_' + name[6:], index=False)"
   ]
  },
  {
   "cell_type": "code",
   "execution_count": 19,
   "metadata": {},
   "outputs": [
    {
     "name": "stderr",
     "output_type": "stream",
     "text": [
      "/Users/davidlafferty/anaconda3/lib/python3.7/site-packages/ipykernel_launcher.py:19: SettingWithCopyWarning: \n",
      "A value is trying to be set on a copy of a slice from a DataFrame.\n",
      "Try using .loc[row_indexer,col_indexer] = value instead\n",
      "\n",
      "See the caveats in the documentation: https://pandas.pydata.org/pandas-docs/stable/user_guide/indexing.html#returning-a-view-versus-a-copy\n",
      "/Users/davidlafferty/anaconda3/lib/python3.7/site-packages/ipykernel_launcher.py:23: SettingWithCopyWarning: \n",
      "A value is trying to be set on a copy of a slice from a DataFrame.\n",
      "Try using .loc[row_indexer,col_indexer] = value instead\n",
      "\n",
      "See the caveats in the documentation: https://pandas.pydata.org/pandas-docs/stable/user_guide/indexing.html#returning-a-view-versus-a-copy\n"
     ]
    }
   ],
   "source": [
    "for model in nex_hist:\n",
    "    run_calc(model)"
   ]
  },
  {
   "cell_type": "markdown",
   "metadata": {},
   "source": [
    "## CMIP"
   ]
  },
  {
   "cell_type": "code",
   "execution_count": 20,
   "metadata": {},
   "outputs": [],
   "source": [
    "cmip_all = [\"agvar_ACCESS1-0.historical+rcp85.csv\",\n",
    "\"agvar_BNU-ESM.historical+rcp85.csv\",\n",
    "\"agvar_CCSM4_historical+rcp85.csv\",\n",
    "\"agvar_CESM1-BGC.historical+rcp85.csv\",\n",
    "\"agvar_CNRM-CM5.historical+rcp85.csv\",\n",
    "\"agvar_CSIRO-Mk3-6-0.historical+rcp85.csv\",\n",
    "\"agvar_CanESM2.historical+rcp85.csv\",\n",
    "\"agvar_GFDL-CM3.historical+rcp85.csv\",\n",
    "\"agvar_GFDL-ESM2G.historical+rcp85.csv\",\n",
    "\"agvar_GFDL-ESM2M.historical+rcp85.csv\",\n",
    "\"agvar_IPSL-CM5A-LR.historical+rcp85.csv\",\n",
    "\"agvar_IPSL-CM5A-MR.historical+rcp85.csv\",\n",
    "\"agvar_MIROC-ESM-CHEM.historical+rcp85.csv\",\n",
    "\"agvar_MIROC-ESM.historical+rcp85.csv\",\n",
    "\"agvar_MIROC5.historical+rcp85.csv\",\n",
    "\"agvar_MPI-ESM-LR.historical+rcp85.csv\",\n",
    "\"agvar_MPI-ESM-MR.historical+rcp85.csv\",\n",
    "\"agvar_MRI-CGCM3.historical+rcp85.csv\",\n",
    "\"agvar_NorESM1-M.historical+rcp85.csv\",\n",
    "\"agvar_bcc-csm1-1_historical+rcp85.csv\",\n",
    "\"agvar_inmcm4.historical+rcp85.csv\"]"
   ]
  },
  {
   "cell_type": "code",
   "execution_count": 21,
   "metadata": {},
   "outputs": [],
   "source": [
    "# Run calculation\n",
    "def run_calc(name, hist=True, oos=False, mid=False, end=False):\n",
    "    # Read in data\n",
    "    data = pd.read_csv(\"../../agvars/CMIP/\" + name)\n",
    "    data[\"GEOID\"] = data[\"GEOID\"].astype(str).str.zfill(5)\n",
    "    data.set_index(['GEOID', 'Year'], inplace=True)\n",
    "    \n",
    "    # Select time period\n",
    "    if hist:\n",
    "        data = data.query('Year >= 1960 and Year <= 2005')\n",
    "    elif oos:\n",
    "        data = data.query('Year >= 2006 and Year <= 2016')\n",
    "    elif mid:\n",
    "        data = data.query('Year >= 2040 and Year <= 2059')\n",
    "    elif end:\n",
    "        data = data.query('Year >= 2080 and Year <= 2099')\n",
    "    \n",
    "    # Square precip\n",
    "    data['prcp2'] = data['prcp']**2\n",
    "    \n",
    "    # Subtract means\n",
    "    for agvar in data.columns:\n",
    "        data[agvar] = data[agvar] - data[agvar].mean(level = 'GEOID')\n",
    "\n",
    "    # Calculate yields\n",
    "    data = pd.merge(coeff, data.reset_index(), on = 'GEOID', how = 'outer')\n",
    "    data['yield'] = data['gdd']*data['GDDc'] + data['egdd']*data['KDDc'] + data['prcp']*data['Pc'] + data['prcp2']*data['P2c']\n",
    "    data = data.filter(['GEOID', 'Year', 'yield'])\n",
    "    \n",
    "    # Save\n",
    "    timeID = hist*'60-05' + oos*'06-16' + mid*'40-59' + end*'80-99'\n",
    "    data.to_csv(\"./output/CMIP/res_\" + timeID + '_yield_' + name[6:], index=False)"
   ]
  },
  {
   "cell_type": "code",
   "execution_count": 22,
   "metadata": {},
   "outputs": [
    {
     "name": "stderr",
     "output_type": "stream",
     "text": [
      "/Users/davidlafferty/anaconda3/lib/python3.7/site-packages/ipykernel_launcher.py:19: SettingWithCopyWarning: \n",
      "A value is trying to be set on a copy of a slice from a DataFrame.\n",
      "Try using .loc[row_indexer,col_indexer] = value instead\n",
      "\n",
      "See the caveats in the documentation: https://pandas.pydata.org/pandas-docs/stable/user_guide/indexing.html#returning-a-view-versus-a-copy\n",
      "/Users/davidlafferty/anaconda3/lib/python3.7/site-packages/ipykernel_launcher.py:23: SettingWithCopyWarning: \n",
      "A value is trying to be set on a copy of a slice from a DataFrame.\n",
      "Try using .loc[row_indexer,col_indexer] = value instead\n",
      "\n",
      "See the caveats in the documentation: https://pandas.pydata.org/pandas-docs/stable/user_guide/indexing.html#returning-a-view-versus-a-copy\n"
     ]
    }
   ],
   "source": [
    "for model in cmip_all:\n",
    "    run_calc(model)"
   ]
  },
  {
   "cell_type": "code",
   "execution_count": null,
   "metadata": {},
   "outputs": [],
   "source": []
  }
 ],
 "metadata": {
  "kernelspec": {
   "display_name": "Python 3",
   "language": "python",
   "name": "python3"
  },
  "language_info": {
   "codemirror_mode": {
    "name": "ipython",
    "version": 3
   },
   "file_extension": ".py",
   "mimetype": "text/x-python",
   "name": "python",
   "nbconvert_exporter": "python",
   "pygments_lexer": "ipython3",
   "version": "3.7.6"
  }
 },
 "nbformat": 4,
 "nbformat_minor": 4
}
